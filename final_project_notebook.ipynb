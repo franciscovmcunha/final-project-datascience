{
 "cells": [
  {
   "cell_type": "markdown",
   "id": "9d68da15",
   "metadata": {},
   "source": [
    "# Data Science Tools and Ecosystem"
   ]
  },
  {
   "cell_type": "markdown",
   "id": "ae4c58b8",
   "metadata": {},
   "source": [
    "In this notebook, we will explore various tools, languages, and libraries used in the field of Data Science."
   ]
  },
  {
   "cell_type": "markdown",
   "id": "f81fc186",
   "metadata": {},
   "source": [
    "### Data Science Languages\n",
    "1. Python\n",
    "2. R\n",
    "3. SQL"
   ]
  },
  {
   "cell_type": "markdown",
   "id": "f074d281",
   "metadata": {},
   "source": [
    "### Data Science Libraries\n",
    "1. Pandas\n",
    "2. NumPy\n",
    "3. Matplotlib\n",
    "4. Scikit-learn\n",
    "5. TensorFlow"
   ]
  },
  {
   "cell_type": "markdown",
   "id": "23359af9",
   "metadata": {},
   "source": [
    "### Data Science Tools\n",
    "| Category         | Tool              |\n",
    "|------------------|-------------------|\n",
    "| Data Analysis    | Pandas            |\n",
    "| Machine Learning | Scikit-learn      |\n",
    "| Deep Learning    | TensorFlow        |\n",
    "| Visualization    | Matplotlib        |\n",
    "| Big Data         | Apache Spark      |"
   ]
  },
  {
   "cell_type": "markdown",
   "id": "29478e69",
   "metadata": {},
   "source": [
    "Below are examples of evaluating arithmetic expressions in Python."
   ]
  },
  {
   "cell_type": "code",
   "execution_count": null,
   "id": "f694b095",
   "metadata": {},
   "outputs": [],
   "source": [
    "(3 * 4) + 5 
      = 17"
   ]
  },
  {
   "cell_type": "code",
   "execution_count": null,
   "id": "96c5a61c",
   "metadata": {},
   "outputs": [],
   "source": [
    "200 / 60"
   ]
  },
  {
   "cell_type": "markdown",
   "id": "1cab5110",
   "metadata": {},
   "source": [
    "### Objectives:\n",
    "- List popular languages for Data Science\n",
    "- List commonly used libraries\n",
    "- Create tables using markdown\n",
    "- Perform arithmetic operations using code\n",
    "- Share notebooks via GitHub"
   ]
  },
  {
   "cell_type": "markdown",
   "id": "cb1a68e6",
   "metadata": {},
   "source": [
    "**Author:** Francisco Cunha"
   ]
  }
 ],
 "metadata": {},
 "nbformat": 4,
 "nbformat_minor": 5
}
